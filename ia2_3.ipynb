{
  "nbformat": 4,
  "nbformat_minor": 0,
  "metadata": {
    "colab": {
      "provenance": [],
      "authorship_tag": "ABX9TyOyvvmUKsfm4mYadHdj40zF",
      "include_colab_link": true
    },
    "kernelspec": {
      "name": "python3",
      "display_name": "Python 3"
    },
    "language_info": {
      "name": "python"
    }
  },
  "cells": [
    {
      "cell_type": "markdown",
      "metadata": {
        "id": "view-in-github",
        "colab_type": "text"
      },
      "source": [
        "<a href=\"https://colab.research.google.com/github/pereira-71/-EXAMEN-01-PRIMER-PARCIAL/blob/main/ia2_3.ipynb\" target=\"_parent\"><img src=\"https://colab.research.google.com/assets/colab-badge.svg\" alt=\"Open In Colab\"/></a>"
      ]
    },
    {
      "cell_type": "code",
      "execution_count": null,
      "metadata": {
        "id": "wRCE_8E4GIpV"
      },
      "outputs": [],
      "source": [
        "###"
      ]
    },
    {
      "cell_type": "markdown",
      "source": [
        "#3#"
      ],
      "metadata": {
        "id": "4VUPrQKpLQq9"
      }
    }
  ]
}